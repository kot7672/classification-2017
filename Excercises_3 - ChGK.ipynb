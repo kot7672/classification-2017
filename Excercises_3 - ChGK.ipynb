{
 "cells": [
  {
   "cell_type": "code",
   "execution_count": null,
   "metadata": {},
   "outputs": [],
   "source": [
    "import lxml.html\n",
    "import lxml.etree\n",
    "import requests\n",
    "\n",
    "url = 'https://db.chgk.info'\n",
    "response = requests.get(url + '/tree')\n",
    "tree = lxml.html.fromstring(response.text)\n",
    "links = tree.xpath('//div[contains(@id, \"main\")]/ul/li//ul/li/a/@href')\n",
    "\n",
    "f = open('C://ChGK.txt', 'w', encoding='utf8')\n",
    "for item in links:\n",
    "    if item[6].islower():\n",
    "        response = requests.get(url + item)\n",
    "        tree = lxml.html.fromstring(response.text)\n",
    "        questions = tree.xpath('//div[contains(@class, \"question\")]')\n",
    "        for q in questions:\n",
    "            question = q.xpath('./text() | .//p[contains(strong/@class, \"Question\")]/img/@src | .//div[contains(@class, \"razdatka\")]/text() | .//p[contains(strong/@class, \"Question\")]/text()')\n",
    "            rq = ((' '.join(question)).replace('\\n', ' ')).replace('\\xa0', '')\n",
    "            f.write('Q: ' + (rq.lstrip()).rstrip() + '\\n')\n",
    "            answer = q.xpath('.//p[contains(strong/@class, \"Answer\")]/text()')\n",
    "            ra = ((' '.join(answer)).replace('\\n', ' ')).replace('\\xa0', '')\n",
    "            f.write('A: ' + (ra.lstrip()).rstrip() + '\\n')\n",
    "            comment = q.xpath('.//p[contains(strong/@class, \"Comments\")]/img/@src | .//p[contains(strong/@class, \"Comments\")]/text()')\n",
    "            rc = ((' '.join(comment)).replace('\\n', ' ')).replace('\\xa0', '')\n",
    "            f.write('C: ' + (rc.lstrip()).rstrip() + '\\n\\n')\n",
    "f.close()"
   ]
  },
  {
   "cell_type": "code",
   "execution_count": null,
   "metadata": {
    "collapsed": true
   },
   "outputs": [],
   "source": []
  }
 ],
 "metadata": {
  "kernelspec": {
   "display_name": "Python 3",
   "language": "python",
   "name": "python3"
  },
  "language_info": {
   "codemirror_mode": {
    "name": "ipython",
    "version": 3
   },
   "file_extension": ".py",
   "mimetype": "text/x-python",
   "name": "python",
   "nbconvert_exporter": "python",
   "pygments_lexer": "ipython3",
   "version": "3.6.2"
  }
 },
 "nbformat": 4,
 "nbformat_minor": 2
}
