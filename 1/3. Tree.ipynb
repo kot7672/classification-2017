{
 "cells": [
  {
   "cell_type": "code",
   "execution_count": 37,
   "metadata": {
    "collapsed": false
   },
   "outputs": [],
   "source": [
    "class Tree:\n",
    "    def __init__(self, value=None, left=None, right=None):\n",
    "        self.left = left\n",
    "        self.right = right\n",
    "        self.value = value\n",
    "        \n",
    "    def __iter__(self):\n",
    "        r = []\n",
    "        if self.left!=None:\n",
    "            r.extend(self.left.__iter__())\n",
    "        if self.value!=None:\n",
    "            r.append(self.value)\n",
    "        if self.right!=None:\n",
    "            r.extend(self.right.__iter__())\n",
    "        return iter(r)\n",
    "    \n",
    "    def __str__(self):\n",
    "        s = []\n",
    "        for i in self:\n",
    "            s.append(i)\n",
    "        return str(s)\n",
    "    \n",
    "    def __repr__(self):\n",
    "        s = 'Tree('+str(self.value)\n",
    "        if self.right==None:\n",
    "            if self.left!=None:\n",
    "                s += self.left.__repr__()\n",
    "        else:\n",
    "            if self.left==None:\n",
    "                s += ', None, ' + self.right.__repr__()\n",
    "            else:\n",
    "                s += ', ' + self.left.__repr__() + ', ' + self.right.__repr__()\n",
    "        s += ')'\n",
    "        return s"
   ]
  },
  {
   "cell_type": "code",
   "execution_count": 38,
   "metadata": {
    "collapsed": false
   },
   "outputs": [],
   "source": [
    "tree = Tree(0, Tree(-2, Tree(-3), Tree(-1)),                             \n",
    "               Tree(2))"
   ]
  },
  {
   "cell_type": "code",
   "execution_count": 39,
   "metadata": {
    "collapsed": false
   },
   "outputs": [
    {
     "data": {
      "text/plain": [
       "<list_iterator at 0x5340cc0>"
      ]
     },
     "execution_count": 39,
     "metadata": {},
     "output_type": "execute_result"
    }
   ],
   "source": [
    "tree.__iter__()"
   ]
  },
  {
   "cell_type": "code",
   "execution_count": 40,
   "metadata": {
    "collapsed": false
   },
   "outputs": [
    {
     "name": "stdout",
     "output_type": "stream",
     "text": [
      "-3\n",
      "-2\n",
      "-1\n",
      "0\n",
      "2\n"
     ]
    }
   ],
   "source": [
    "for i in tree:\n",
    "    print(i)"
   ]
  },
  {
   "cell_type": "code",
   "execution_count": 41,
   "metadata": {
    "collapsed": false
   },
   "outputs": [
    {
     "name": "stdout",
     "output_type": "stream",
     "text": [
      "[-3, -2, -1, 0, 2]\n"
     ]
    }
   ],
   "source": [
    "print(tree)"
   ]
  },
  {
   "cell_type": "code",
   "execution_count": 46,
   "metadata": {
    "collapsed": false
   },
   "outputs": [
    {
     "data": {
      "text/plain": [
       "Tree(0, Tree(-2, Tree(-3), Tree(-1)), Tree(2))"
      ]
     },
     "execution_count": 46,
     "metadata": {},
     "output_type": "execute_result"
    }
   ],
   "source": [
    "tree"
   ]
  },
  {
   "cell_type": "code",
   "execution_count": null,
   "metadata": {
    "collapsed": true
   },
   "outputs": [],
   "source": []
  }
 ],
 "metadata": {
  "kernelspec": {
   "display_name": "Python 3",
   "language": "python",
   "name": "python3"
  },
  "language_info": {
   "codemirror_mode": {
    "name": "ipython",
    "version": 3
   },
   "file_extension": ".py",
   "mimetype": "text/x-python",
   "name": "python",
   "nbconvert_exporter": "python",
   "pygments_lexer": "ipython3",
   "version": "3.6.0"
  }
 },
 "nbformat": 4,
 "nbformat_minor": 2
}
