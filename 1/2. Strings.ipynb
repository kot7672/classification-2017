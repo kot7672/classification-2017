{
 "cells": [
  {
   "cell_type": "code",
   "execution_count": 13,
   "metadata": {
    "collapsed": true
   },
   "outputs": [],
   "source": [
    "def check_inv(a, b):\n",
    "    t = list(b)\n",
    "    s = set(b)\n",
    "    i = 0\n",
    "    while i<(len(a)-len(b)+1):\n",
    "        for j in range(i,i+len(b)):\n",
    "            if a[j] not in s:\n",
    "                i = j+1\n",
    "                break\n",
    "        else:\n",
    "            for k in range(i,i+len(b)):\n",
    "                try:\n",
    "                    t.remove(a[k])\n",
    "                except ValueError:\n",
    "                    t.extend(a[i:k])\n",
    "                    i+=1\n",
    "                    break\n",
    "            else:\n",
    "                return True\n",
    "    return False"
   ]
  },
  {
   "cell_type": "code",
   "execution_count": 20,
   "metadata": {
    "collapsed": false
   },
   "outputs": [
    {
     "data": {
      "text/plain": [
       "True"
      ]
     },
     "execution_count": 20,
     "metadata": {},
     "output_type": "execute_result"
    }
   ],
   "source": [
    "check_inv('abcrotm','tro')"
   ]
  },
  {
   "cell_type": "code",
   "execution_count": null,
   "metadata": {
    "collapsed": true
   },
   "outputs": [],
   "source": []
  }
 ],
 "metadata": {
  "kernelspec": {
   "display_name": "Python 3",
   "language": "python",
   "name": "python3"
  },
  "language_info": {
   "codemirror_mode": {
    "name": "ipython",
    "version": 3
   },
   "file_extension": ".py",
   "mimetype": "text/x-python",
   "name": "python",
   "nbconvert_exporter": "python",
   "pygments_lexer": "ipython3",
   "version": "3.6.0"
  }
 },
 "nbformat": 4,
 "nbformat_minor": 2
}
