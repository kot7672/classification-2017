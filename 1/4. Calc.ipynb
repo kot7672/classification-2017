{
 "cells": [
  {
   "cell_type": "code",
   "execution_count": 27,
   "metadata": {
    "collapsed": false
   },
   "outputs": [],
   "source": [
    "def calc(expr):\n",
    "    f = True\n",
    "    correct = True\n",
    "    i = 0\n",
    "    lst = []\n",
    "    s = []\n",
    "    ln = -1\n",
    "    priority = {'(': 0, '+': 1, '-': 1, '*': 2, '/': 2}\n",
    "    for i in range(0,len(expr)):\n",
    "        if expr[i].isdigit():\n",
    "            if f:\n",
    "                lst.append(expr[i])\n",
    "                ln+=1\n",
    "                f = False\n",
    "            else:\n",
    "                lst[ln]+=expr[i]\n",
    "        else:\n",
    "            f = True\n",
    "            if expr[i]==')':\n",
    "                j = s.pop()\n",
    "                while j!='(':\n",
    "                    lst.append(j)\n",
    "                    try:\n",
    "                        j = s.pop()\n",
    "                    except IndexError:\n",
    "                        correct = False\n",
    "                        break\n",
    "            elif expr[i]=='(':\n",
    "                s.append('(')\n",
    "            elif priority.get(expr[i], -1)!=-1:\n",
    "                j = len(s)-1\n",
    "                if j>=0:\n",
    "                    while priority[expr[i]]<=priority[s[j]]:\n",
    "                        try:\n",
    "                            lst.append(s.pop())\n",
    "                            j-=1\n",
    "                            if j<0:\n",
    "                                break\n",
    "                        except IndexError:\n",
    "                            correct = False\n",
    "                            break\n",
    "                    s.append(expr[i])\n",
    "                else:\n",
    "                    s.append(expr[i])\n",
    "        if not correct:\n",
    "            break\n",
    "    for i in range(0,len(s)):\n",
    "        j = s.pop()\n",
    "        if j=='(':\n",
    "            correct = False\n",
    "            break\n",
    "        else:\n",
    "            lst.append(j)\n",
    "    if correct:\n",
    "        s = []\n",
    "        for i in range(0,len(lst)):\n",
    "            if lst[i].isdigit():\n",
    "                s.append(int(lst[i]))\n",
    "            elif lst[i]=='+':\n",
    "                try:\n",
    "                    s.append(s.pop()+s.pop())\n",
    "                except IndexError:\n",
    "                    correct = False\n",
    "                    break\n",
    "            elif lst[i]=='-':\n",
    "                try:\n",
    "                    b, a = s.pop(), s.pop()\n",
    "                    s.append(a-b)\n",
    "                except IndexError:\n",
    "                    correct = False\n",
    "                    break\n",
    "            elif lst[i]=='*':\n",
    "                try:\n",
    "                    s.append(s.pop()*s.pop())\n",
    "                except IndexError:\n",
    "                    correct = False\n",
    "                    break\n",
    "            elif lst[i]=='/':\n",
    "                try:\n",
    "                    b, a = s.pop(), s.pop()\n",
    "                    s.append(a/b)\n",
    "                except IndexError:\n",
    "                    correct = False\n",
    "                    break\n",
    "                except ZeroDivisionError:\n",
    "                    correct = False\n",
    "                    print('Division by zero!')\n",
    "                    break\n",
    "        if len(s)!=1:\n",
    "            correct = False\n",
    "    if correct:\n",
    "        print(s[0])\n",
    "    else:\n",
    "        print('Incorrect expression')\n",
    "        "
   ]
  },
  {
   "cell_type": "code",
   "execution_count": 31,
   "metadata": {
    "collapsed": false
   },
   "outputs": [
    {
     "name": "stdout",
     "output_type": "stream",
     "text": [
      "(2-(3+(5-2)*3)/4)\n",
      "-1.0\n"
     ]
    }
   ],
   "source": [
    "calc(input())"
   ]
  },
  {
   "cell_type": "code",
   "execution_count": null,
   "metadata": {
    "collapsed": true
   },
   "outputs": [],
   "source": []
  }
 ],
 "metadata": {
  "kernelspec": {
   "display_name": "Python 3",
   "language": "python",
   "name": "python3"
  },
  "language_info": {
   "codemirror_mode": {
    "name": "ipython",
    "version": 3
   },
   "file_extension": ".py",
   "mimetype": "text/x-python",
   "name": "python",
   "nbconvert_exporter": "python",
   "pygments_lexer": "ipython3",
   "version": "3.6.0"
  }
 },
 "nbformat": 4,
 "nbformat_minor": 2
}
